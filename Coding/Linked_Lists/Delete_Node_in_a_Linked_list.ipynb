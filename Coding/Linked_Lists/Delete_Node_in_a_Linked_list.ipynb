{
 "cells": [
  {
   "cell_type": "markdown",
   "id": "dea027b2",
   "metadata": {},
   "source": [
    "# Delete Node in a Linked List"
   ]
  },
  {
   "cell_type": "markdown",
   "id": "fef2e15d",
   "metadata": {},
   "source": [
    "Write a function to delete a node (except the tail) in a singly linked list, given only\n",
    "access to that node.\n",
    "\n",
    "Supposed the linked list is 1 -> 2 -> 3 -> 4 and you are given the third node with\n",
    "value 3, the linked list should become 1 -> 2 -> 4 after calling your function.\n",
    "\n",
    "URL: https://leetcode.com/problems/delete-node-in-a-linked-list/"
   ]
  },
  {
   "cell_type": "markdown",
   "id": "18562d26",
   "metadata": {},
   "source": [
    "There is a singly-linked list head and we want to delete a node in it.\n",
    "\n",
    "You are given the node to be deleted node. You will not be given access to the first node of head.\n",
    "\n",
    "All the values of the linked list are unique, and it is guaranteed that the given node node is not the last node in the linked list.\n",
    "\n",
    "Delete the given node. Note that by deleting the node, we do not mean removing it from memory. We mean:\n",
    "\n",
    "The value of the given node should not exist in the linked list.\n",
    "The number of nodes in the linked list should decrease by one.\n",
    "All the values before node should be in the same order.\n",
    "All the values after node should be in the same order.\n",
    "\n",
    "Custom testing:\n",
    "\n",
    "For the input, you should provide the entire linked list head and the node to be given node. node should not be the last node of the list and should be an actual node in the list.\n",
    "\n",
    "We will build the linked list and pass the node to your function.\n",
    "\n",
    "The output will be the entire list after calling your function.\n",
    " \n",
    " \n",
    "Example 1:\n",
    "\n",
    "Input: head = [4,5,1,9], node = 5\n",
    "\n",
    "Output: [4,1,9]\n",
    "\n",
    "Explanation: You are given the second node with value 5, the linked list should become 4 -> 1 -> 9 after calling your function.\n",
    "\n",
    "Example 2:\n",
    "\n",
    "Input: head = [4,5,1,9], node = 1\n",
    "\n",
    "Output: [4,5,9]\n",
    "\n",
    "Explanation: You are given the third node with value 1, the linked list should become 4 -> 5 -> 9 after calling your function.\n",
    "\n",
    "Constraints:\n",
    "\n",
    "The number of the nodes in the given list is in the range [2, 1000].\n",
    "-1000 <= Node.val <= 1000\n",
    "\n",
    "The value of each node in the list is unique.\n",
    "\n",
    "The node to be deleted is in the list and is not a tail node."
   ]
  },
  {
   "cell_type": "markdown",
   "id": "ac1a7362",
   "metadata": {},
   "source": [
    "## Solution\n",
    "\n",
    "Suppose we have a linked list with few elements. Our task is to write a function that will delete the given node from the list. So if the list is like 1 → 3 → 5 → 7 → 9, and after deleting 3, it will be 1 → 5 → 7 → 9.\n",
    "\n",
    "Consider we have the pointer ‘node’ to point that node to be deleted, we have to perform these operations to delete the node −\n",
    "\n",
    "node.val = node.next.val\n",
    "\n",
    "node.next = node.next.next"
   ]
  },
  {
   "cell_type": "code",
   "execution_count": 1,
   "id": "c273cc06",
   "metadata": {},
   "outputs": [],
   "source": [
    "class ListNode:\n",
    "    def __init__(self, data, next = None):\n",
    "      self.data = data\n",
    "      self.next = next"
   ]
  },
  {
   "cell_type": "code",
   "execution_count": 2,
   "id": "cc7c6710",
   "metadata": {},
   "outputs": [],
   "source": [
    "def make_list(elements):\n",
    "    head = ListNode(elements[0])\n",
    "    for element in elements[1:]:\n",
    "        ptr = head\n",
    "        while ptr.next:\n",
    "         ptr = ptr.next\n",
    "        ptr.next = ListNode(element)\n",
    "    return head"
   ]
  },
  {
   "cell_type": "code",
   "execution_count": 3,
   "id": "eb5148e2",
   "metadata": {},
   "outputs": [],
   "source": [
    "def print_list(head):\n",
    "    ptr = head\n",
    "    print('[', end = \"\")\n",
    "    while ptr:\n",
    "      print(ptr.data, end = \",\")\n",
    "      ptr = ptr.next\n",
    "    print(']')"
   ]
  },
  {
   "cell_type": "code",
   "execution_count": 4,
   "id": "f430e6d3",
   "metadata": {},
   "outputs": [],
   "source": [
    "def get_node(head, val):\n",
    "    node = head\n",
    "    while node.data!=val:\n",
    "        node = node.next\n",
    "    return node"
   ]
  },
  {
   "cell_type": "code",
   "execution_count": 5,
   "id": "7563ea9c",
   "metadata": {},
   "outputs": [],
   "source": [
    "class Solution(object):\n",
    "    def deleteNode(self, node):\n",
    "        \"\"\"\n",
    "        :type node: ListNode\n",
    "        :rtype: void Do not return anything, modify node in-place instead.\n",
    "        \"\"\"\n",
    "        if node == None:\n",
    "            pass\n",
    "        else:\n",
    "            next_node = node.next\n",
    "            node.data = next_node.data\n",
    "            node.next = next_node.next"
   ]
  },
  {
   "cell_type": "code",
   "execution_count": 6,
   "id": "b8d6e5ee",
   "metadata": {},
   "outputs": [
    {
     "name": "stdout",
     "output_type": "stream",
     "text": [
      "[1,5,7,9,]\n"
     ]
    }
   ],
   "source": [
    "head = make_list([1,3,5,7,9])\n",
    "node = get_node(head, 3)\n",
    "ob1 = Solution()\n",
    "ob1.deleteNode(node)\n",
    "print_list(head)"
   ]
  },
  {
   "cell_type": "code",
   "execution_count": 7,
   "id": "ca6f096a",
   "metadata": {},
   "outputs": [
    {
     "name": "stdout",
     "output_type": "stream",
     "text": [
      "[1,5,9,]\n"
     ]
    }
   ],
   "source": [
    "node = get_node(head, 7)\n",
    "ob1 = Solution()\n",
    "ob1.deleteNode(node)\n",
    "print_list(head)"
   ]
  }
 ],
 "metadata": {
  "kernelspec": {
   "display_name": "Python 3 (ipykernel)",
   "language": "python",
   "name": "python3"
  },
  "language_info": {
   "codemirror_mode": {
    "name": "ipython",
    "version": 3
   },
   "file_extension": ".py",
   "mimetype": "text/x-python",
   "name": "python",
   "nbconvert_exporter": "python",
   "pygments_lexer": "ipython3",
   "version": "3.9.12"
  }
 },
 "nbformat": 4,
 "nbformat_minor": 5
}
