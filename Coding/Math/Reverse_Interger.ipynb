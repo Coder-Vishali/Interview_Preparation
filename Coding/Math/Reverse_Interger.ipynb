{
 "cells": [
  {
   "cell_type": "markdown",
   "id": "38007fdf",
   "metadata": {},
   "source": [
    "# Reverse Integer"
   ]
  },
  {
   "cell_type": "markdown",
   "id": "e89ede91",
   "metadata": {},
   "source": [
    "Reverse digits of an integer.\n",
    "\n",
    "Example1: x = 123, return 321 Example2: x = -123, return -321\n",
    "    \n",
    "Have you thought about this? Here are some good questions to ask before coding. Bonus points for you if you have already thought through this!\n",
    "\n",
    "If the integer's last digit is 0, what should the output be? ie, cases such as 10,100.\n",
    "\n",
    "Did you notice that the reversed integer might overflow? Assume the input is a 32-bit integer, then the reverse of 1000000003 overflows. How should you handle such cases?\n",
    "\n",
    "For the purpose of this problem, assume that your function returns 0 when the reversed integer overflows.\n",
    "URL: https://leetcode.com/problems/reverse-integer/\n",
    "\n",
    "Given a signed 32-bit integer x, return x with its digits reversed. If reversing x causes the value to go outside the signed 32-bit integer range [-231, 231 - 1], then return 0.\n",
    "\n",
    "Assume the environment does not allow you to store 64-bit integers (signed or unsigned).\n",
    "\n",
    "Example 1:\n",
    "\n",
    "Input: x = 123\n",
    "Output: 321\n",
    "Example 2:\n",
    "\n",
    "Input: x = -123\n",
    "Output: -321\n",
    "Example 3:\n",
    "\n",
    "Input: x = 120\n",
    "Output: 21\n",
    " \n",
    "\n",
    "Constraints:\n",
    "\n",
    "-231 <= x <= 231 - 1\n"
   ]
  },
  {
   "cell_type": "code",
   "execution_count": 13,
   "id": "6aa9bfa4",
   "metadata": {},
   "outputs": [],
   "source": [
    "class Solution:\n",
    "    def reverse(self, x: int) -> int:\n",
    "        result = 0\n",
    "        if x < 0:\n",
    "            return -self.reverse(-x)\n",
    "        while x:\n",
    "            # Mod of 10 extracts the last digits of a number\n",
    "            result = result * 10 + x % 10 \n",
    "            # Extract the rest of the numbers. Make sure you use integer type\n",
    "            x = int(x/10)\n",
    "        return result if result <= pow(2,31) else 0"
   ]
  },
  {
   "cell_type": "code",
   "execution_count": 11,
   "id": "2468fce7",
   "metadata": {},
   "outputs": [
    {
     "name": "stdout",
     "output_type": "stream",
     "text": [
      "result: 3\n",
      "result: 32\n",
      "32\n"
     ]
    }
   ],
   "source": [
    "ob1 = Solution()\n",
    "print(ob1.reverse(23))"
   ]
  },
  {
   "cell_type": "code",
   "execution_count": 12,
   "id": "246693c3",
   "metadata": {},
   "outputs": [
    {
     "name": "stdout",
     "output_type": "stream",
     "text": [
      "result: 8\n",
      "result: 81\n",
      "result: 812\n",
      "812\n"
     ]
    }
   ],
   "source": [
    "print(ob1.reverse(218))"
   ]
  }
 ],
 "metadata": {
  "kernelspec": {
   "display_name": "Python 3 (ipykernel)",
   "language": "python",
   "name": "python3"
  },
  "language_info": {
   "codemirror_mode": {
    "name": "ipython",
    "version": 3
   },
   "file_extension": ".py",
   "mimetype": "text/x-python",
   "name": "python",
   "nbconvert_exporter": "python",
   "pygments_lexer": "ipython3",
   "version": "3.9.13"
  }
 },
 "nbformat": 4,
 "nbformat_minor": 5
}
