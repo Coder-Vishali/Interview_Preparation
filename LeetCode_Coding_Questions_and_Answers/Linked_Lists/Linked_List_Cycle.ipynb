{
 "cells": [
  {
   "cell_type": "markdown",
   "id": "25a9b57c",
   "metadata": {},
   "source": [
    "# Linked List Cycle"
   ]
  },
  {
   "cell_type": "markdown",
   "id": "13701f3e",
   "metadata": {},
   "source": [
    "### Given a linked list, determine if it has a cycle in it\n",
    "### Note: Solve it without using extra space\n",
    "### Can you solve it using O(1) (i.e. constant) memory?"
   ]
  },
  {
   "cell_type": "markdown",
   "id": "503104bc",
   "metadata": {},
   "source": [
    "Leetcode URL: https://leetcode.com/problems/linked-list-cycle/\n",
    "\n",
    "Given head, the head of a linked list, determine if the linked list has a cycle in it.\n",
    "\n",
    "There is a cycle in a linked list if there is some node in the list that can be reached again by continuously following the next pointer. Internally, pos is used to denote the index of the node that tail's next pointer is connected to. Note that pos is not passed as a parameter.\n",
    "\n",
    "Return true if there is a cycle in the linked list. Otherwise, return false.\n",
    "\n",
    "Example:\n",
    "Input: head = [3,2,0,-4], pos = 1\n",
    "Output: true\n",
    "Explanation: There is a cycle in the linked list, where the tail connects to the 1st node (0-indexed).\n",
    "\n",
    "Constraints:\n",
    "\n",
    "The number of the nodes in the list is in the range [0, 104].\n",
    "-105 <= Node.val <= 105\n",
    "pos is -1 or a valid index in the linked-list."
   ]
  },
  {
   "cell_type": "markdown",
   "id": "af72d13f",
   "metadata": {},
   "source": [
    "### Solution"
   ]
  },
  {
   "cell_type": "markdown",
   "id": "acad3c95",
   "metadata": {},
   "source": [
    "Consider we have a linked list, and we have to check whether there is any cycle or not. To represent the cycle in the given linked list, we will use one integer pointer called pos. This pos represents a position in the linked list where tail is connected. So if pos is -1, then there is no cycle present in the linked list. For example, the linked list is like [5, 3, 2, 0, -4, 7], and pos = 1. So there is a cycle, and tail is connected to the second node.\n",
    "\n",
    "To solve this, we will follow these steps −\n",
    "\n",
    "Take one set as hash set H\n",
    "\n",
    "while head is not null −\n",
    "\n",
    "    if head is present in H, then return true\n",
    "    \n",
    "    add head into H\n",
    "    \n",
    "    head := next of head\n",
    "\n",
    "return False"
   ]
  },
  {
   "cell_type": "code",
   "execution_count": 15,
   "id": "f068d98d",
   "metadata": {},
   "outputs": [],
   "source": [
    "class ListNode:\n",
    "    def __init__(self, data, next = None):\n",
    "      self.data = data\n",
    "      self.next = next"
   ]
  },
  {
   "cell_type": "code",
   "execution_count": 16,
   "id": "35ccf040",
   "metadata": {},
   "outputs": [],
   "source": [
    "def make_list(elements):\n",
    "   head = ListNode(elements[0])\n",
    "   for element in elements[1:]:\n",
    "      ptr = head\n",
    "      while ptr.next:\n",
    "         ptr = ptr.next\n",
    "      ptr.next = ListNode(element)\n",
    "   return head"
   ]
  },
  {
   "cell_type": "code",
   "execution_count": 17,
   "id": "07c0116a",
   "metadata": {},
   "outputs": [],
   "source": [
    "def get_node(head, pos):\n",
    "   if pos != -1:\n",
    "      p = 0\n",
    "      ptr = head\n",
    "      while p < pos:\n",
    "         ptr = ptr.next\n",
    "         p += 1\n",
    "      return ptr"
   ]
  },
  {
   "cell_type": "code",
   "execution_count": 18,
   "id": "1ed584de",
   "metadata": {},
   "outputs": [],
   "source": [
    "# This solution uses a extra space:\n",
    "class Solution(object):\n",
    "   def hasCycle(self, head):\n",
    "      hashS = set()\n",
    "      while head:\n",
    "         if head in hashS:\n",
    "            return True\n",
    "         hashS.add(head)\n",
    "         head = head.next\n",
    "      return False"
   ]
  },
  {
   "cell_type": "code",
   "execution_count": 19,
   "id": "56780b1a",
   "metadata": {},
   "outputs": [],
   "source": [
    "# Make the list into singly linked list\n",
    "head = make_list([5,3,2,0,-4,7])"
   ]
  },
  {
   "cell_type": "code",
   "execution_count": 20,
   "id": "91e30c30",
   "metadata": {},
   "outputs": [],
   "source": [
    "# Get the last node\n",
    "last_node = get_node(head, 5)"
   ]
  },
  {
   "cell_type": "code",
   "execution_count": 21,
   "id": "813a2fd3",
   "metadata": {},
   "outputs": [],
   "source": [
    "# Get the node where you want to make a link\n",
    "pos = 1\n",
    "last_node.next = get_node(head, pos)"
   ]
  },
  {
   "cell_type": "code",
   "execution_count": 22,
   "id": "6c4cae7a",
   "metadata": {},
   "outputs": [
    {
     "name": "stdout",
     "output_type": "stream",
     "text": [
      "True\n"
     ]
    }
   ],
   "source": [
    "ob1 = Solution()\n",
    "print(ob1.hasCycle(head))"
   ]
  },
  {
   "cell_type": "code",
   "execution_count": 23,
   "id": "45d77e45",
   "metadata": {},
   "outputs": [],
   "source": [
    "# This doesn't use extra space\n",
    "class Solution2(object):\n",
    "    def hasCycle(self, head):\n",
    "        \"\"\"\n",
    "        :type head: ListNode\n",
    "        :rtype: bool\n",
    "        \"\"\"\n",
    "        if head == None:\n",
    "            return False\n",
    "        else:\n",
    "            fast = head\n",
    "            slow = head\n",
    "            while fast != None and fast.next != None:\n",
    "                slow = slow.next\n",
    "                fast = fast.next.next\n",
    "                if fast == slow:\n",
    "                    break\n",
    "            if fast == None or fast.next == None:\n",
    "                return False\n",
    "            elif fast == slow:\n",
    "                return True\n",
    "        return False"
   ]
  },
  {
   "cell_type": "code",
   "execution_count": 25,
   "id": "acfa425d",
   "metadata": {},
   "outputs": [
    {
     "name": "stdout",
     "output_type": "stream",
     "text": [
      "True\n"
     ]
    }
   ],
   "source": [
    "ob1 = Solution2()\n",
    "print(ob1.hasCycle(head))"
   ]
  }
 ],
 "metadata": {
  "kernelspec": {
   "display_name": "Python 3 (ipykernel)",
   "language": "python",
   "name": "python3"
  },
  "language_info": {
   "codemirror_mode": {
    "name": "ipython",
    "version": 3
   },
   "file_extension": ".py",
   "mimetype": "text/x-python",
   "name": "python",
   "nbconvert_exporter": "python",
   "pygments_lexer": "ipython3",
   "version": "3.9.12"
  }
 },
 "nbformat": 4,
 "nbformat_minor": 5
}
