{
 "cells": [
  {
   "cell_type": "markdown",
   "id": "e80f1a95",
   "metadata": {},
   "source": [
    "# Merge Two Sorted Lists"
   ]
  },
  {
   "cell_type": "markdown",
   "id": "a6188fb4",
   "metadata": {},
   "source": [
    "Merge two sorted linked lists and return it as a new list. The new list should be\n",
    "made by splicing together the nodes of the first two lists.\n",
    "\n",
    "URL: https://leetcode.com/problems/merge-two-sorted-lists/"
   ]
  },
  {
   "cell_type": "markdown",
   "id": "d00bb522",
   "metadata": {},
   "source": [
    "You are given the heads of two sorted linked lists list1 and list2.\n",
    "\n",
    "Merge the two lists in a one sorted list. The list should be made by splicing together the nodes of the first two lists.\n",
    "\n",
    "Return the head of the merged linked list.\n",
    "\n",
    "Example 1:\n",
    "\n",
    "Input: list1 = [1,2,4], list2 = [1,3,4]\n",
    "\n",
    "Output: [1,1,2,3,4,4]\n",
    "\n",
    "Example 2:\n",
    "\n",
    "Input: list1 = [], list2 = []\n",
    "\n",
    "Output: []\n",
    "\n",
    "Example 3:\n",
    "\n",
    "Input: list1 = [], list2 = [0]\n",
    "\n",
    "Output: [0]\n",
    "\n",
    "Constraints:\n",
    "\n",
    "The number of nodes in both lists is in the range [0, 50].\n",
    "-100 <= Node.val <= 100\n",
    "\n",
    "Both list1 and list2 are sorted in non-decreasing order."
   ]
  },
  {
   "cell_type": "markdown",
   "id": "bdcfa95a",
   "metadata": {},
   "source": [
    "## Solution\n",
    "\n",
    "Suppose we have two sorted lists A and B. We have to merge them and form only one sorted list C. The size of lists may different.\n",
    "\n",
    "For an example, suppose A = [1,2,4,7] and B = [1,3,4,5,6,8], then merged list C will be [1,1,2,3,4,4,5,6,7,8]\n",
    "\n",
    "We will solve this using recursion. So the function will work like below −\n",
    "\n",
    "Suppose the lists A and B of function merge()\n",
    "\n",
    "if A is empty, then return B, if B is empty, then return A\n",
    "\n",
    "if value in A <= value in B, then A.next = merge(A.next, B) and return A\n",
    "\n",
    "otherwise, then B.next = merge(A, B.next) and return B"
   ]
  },
  {
   "cell_type": "code",
   "execution_count": 1,
   "id": "ae55eced",
   "metadata": {},
   "outputs": [],
   "source": [
    "class ListNode:\n",
    "    def __init__(self, data, next = None):\n",
    "        self.val = data\n",
    "        self.next = next"
   ]
  },
  {
   "cell_type": "code",
   "execution_count": 2,
   "id": "20d15190",
   "metadata": {},
   "outputs": [],
   "source": [
    "def make_list(elements):\n",
    "    head = ListNode(elements[0])\n",
    "    for element in elements[1:]:\n",
    "        ptr = head\n",
    "        while ptr.next:\n",
    "            ptr = ptr.next\n",
    "        ptr.next = ListNode(element)\n",
    "    return head"
   ]
  },
  {
   "cell_type": "code",
   "execution_count": 3,
   "id": "e770937d",
   "metadata": {},
   "outputs": [],
   "source": [
    "def print_list(head):\n",
    "    ptr = head\n",
    "    print('[', end = \"\")\n",
    "    while ptr:\n",
    "        print(ptr.val, end = \", \")\n",
    "        ptr = ptr.next\n",
    "    print(']')"
   ]
  },
  {
   "cell_type": "code",
   "execution_count": 4,
   "id": "d69899b8",
   "metadata": {},
   "outputs": [],
   "source": [
    "class Solution:\n",
    "    def mergeTwoLists(self, l1, l2):\n",
    "        \"\"\"\n",
    "        :type l1: ListNode\n",
    "        :type l2: ListNode\n",
    "        :rtype: ListNode\n",
    "        \"\"\"\n",
    "        if not l1:\n",
    "            return l2\n",
    "        if not l2:\n",
    "            return l1\n",
    "        if(l1.val<=l2.val):\n",
    "            l1.next = self.mergeTwoLists(l1.next,l2)\n",
    "            return l1\n",
    "        else:\n",
    "            l2.next = self.mergeTwoLists(l1,l2.next)\n",
    "            return l2"
   ]
  },
  {
   "cell_type": "code",
   "execution_count": 5,
   "id": "307df437",
   "metadata": {},
   "outputs": [
    {
     "name": "stdout",
     "output_type": "stream",
     "text": [
      "[1, 2, 4, 7, ]\n",
      "[1, 3, 4, 5, 6, 8, ]\n"
     ]
    }
   ],
   "source": [
    "head1 = make_list([1,2,4,7])\n",
    "head2 = make_list([1,3,4,5,6,8])\n",
    "print_list(head1)\n",
    "print_list(head2)"
   ]
  },
  {
   "cell_type": "code",
   "execution_count": 6,
   "id": "e10d9298",
   "metadata": {},
   "outputs": [
    {
     "name": "stdout",
     "output_type": "stream",
     "text": [
      "[1, 1, 2, 3, 4, 4, 5, 6, 7, 8, ]\n"
     ]
    }
   ],
   "source": [
    "ob1 = Solution()\n",
    "head3 = ob1.mergeTwoLists(head1,head2)\n",
    "print_list(head3)"
   ]
  },
  {
   "cell_type": "code",
   "execution_count": null,
   "id": "eeb43efd",
   "metadata": {},
   "outputs": [],
   "source": [
    "class Solution(object):\n",
    "    def mergeTwoLists(self, l1, l2):\n",
    "        \"\"\"\n",
    "        :type l1: ListNode\n",
    "        :type l2: ListNode\n",
    "        :rtype: ListNode\n",
    "        \"\"\"\n",
    "        if l1 == None and l2 == None:\n",
    "            return None\n",
    "        elif l1 != None and l2 == None:\n",
    "            return l1\n",
    "        elif l2 != None and l1 == None:\n",
    "            return l2\n",
    "        else:\n",
    "            dummy = ListNode(0)\n",
    "            p = dummy\n",
    "            while l1 != None and l2 != None:\n",
    "                if l1.val < l2.val:\n",
    "                    p.next = l1\n",
    "                    l1 = l1.next\n",
    "                else:\n",
    "                    p.next = l2\n",
    "                    l2 = l2.next\n",
    "                p = p.next\n",
    "            if l1 != None:\n",
    "                p.next = l1\n",
    "            if l2 != None:\n",
    "                p.next = l2\n",
    "            return dummy.next"
   ]
  },
  {
   "cell_type": "code",
   "execution_count": null,
   "id": "aca317f8",
   "metadata": {},
   "outputs": [],
   "source": [
    "ob1 = Solution()\n",
    "head3 = ob1.mergeTwoLists(head1,head2)\n",
    "print_list(head3)"
   ]
  }
 ],
 "metadata": {
  "kernelspec": {
   "display_name": "Python 3 (ipykernel)",
   "language": "python",
   "name": "python3"
  },
  "language_info": {
   "codemirror_mode": {
    "name": "ipython",
    "version": 3
   },
   "file_extension": ".py",
   "mimetype": "text/x-python",
   "name": "python",
   "nbconvert_exporter": "python",
   "pygments_lexer": "ipython3",
   "version": "3.9.12"
  }
 },
 "nbformat": 4,
 "nbformat_minor": 5
}
