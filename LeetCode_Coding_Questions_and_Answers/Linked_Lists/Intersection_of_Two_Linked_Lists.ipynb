{
 "cells": [
  {
   "cell_type": "markdown",
   "id": "b3006267",
   "metadata": {},
   "source": [
    "# Intersection of Two Linked List"
   ]
  },
  {
   "cell_type": "markdown",
   "id": "b3f68f6a",
   "metadata": {},
   "source": [
    "Write a program to find the node at which the intersection of two singly linked lists\n",
    "begins.\n",
    "\n",
    "For example, the following two linked lists:\n",
    "\n",
    "A: a1 → a2 ↘ c1 → c2 → c3 ↗\n",
    "\n",
    "B: b1 → b2 → b3 begin to intersect at node c1.\n",
    "\n",
    "Notes:\n",
    "If the two linked lists have no intersection at all, return null. The linked lists must retain their original structure after the function returns. You may assume there are no cycles anywhere in the entire linked structure. Your code should preferably run in O(n) time and use only O(1) memory.\n",
    "\n",
    "URL: https://leetcode.com/problems/intersection-of-two-linked-lists/"
   ]
  },
  {
   "cell_type": "markdown",
   "id": "edf7bcbf",
   "metadata": {},
   "source": [
    "Custom Judge:\n",
    "\n",
    "The inputs to the judge are given as follows (your program is not given these inputs):\n",
    "\n",
    "intersectVal - The value of the node where the intersection occurs. This is 0 if there is no intersected node.\n",
    "\n",
    "listA - The first linked list.\n",
    "\n",
    "listB - The second linked list.\n",
    "\n",
    "skipA - The number of nodes to skip ahead in listA (starting from the head) to get to the intersected node.\n",
    "\n",
    "skipB - The number of nodes to skip ahead in listB (starting from the head) to get to the intersected node.\n",
    "\n",
    "The judge will then create the linked structure based on these inputs and pass the two heads, headA and headB to your program. If you correctly return the intersected node, then your solution will be accepted."
   ]
  },
  {
   "cell_type": "markdown",
   "id": "1c03b372",
   "metadata": {},
   "source": [
    "Example 1:\n",
    "\n",
    "Input: intersectVal = 8, listA = [4,1,8,4,5], listB = [5,6,1,8,4,5], skipA = 2, skipB = 3\n",
    "\n",
    "Output: Intersected at '8'\n",
    "\n",
    "Explanation: The intersected node's value is 8 (note that this must not be 0 if the two lists intersect).\n",
    "\n",
    "From the head of A, it reads as [4,1,8,4,5]. From the head of B, it reads as [5,6,1,8,4,5]. There are 2 nodes before the intersected node in A; There are 3 nodes before the intersected node in B.\n",
    "\n",
    "- Note that the intersected node's value is not 1 because the nodes with value 1 in A and B (2nd node in A and 3rd node in B) are different node references. In other words, they point to two different locations in memory, while the nodes with value 8 in A and B (3rd node in A and 4th node in B) point to the same location in memory."
   ]
  },
  {
   "cell_type": "markdown",
   "id": "e4bcd5d0",
   "metadata": {},
   "source": [
    "Example 2:\n",
    "\n",
    "Input: intersectVal = 2, listA = [1,9,1,2,4], listB = [3,2,4], skipA = 3, skipB = 1\n",
    "\n",
    "Output: Intersected at '2'\n",
    "\n",
    "Explanation: The intersected node's value is 2 (note that this must not be 0 if the two lists intersect).\n",
    "\n",
    "From the head of A, it reads as [1,9,1,2,4]. From the head of B, it reads as [3,2,4]. There are 3 nodes before the intersected node in A; There are 1 node before the intersected node in B."
   ]
  },
  {
   "cell_type": "markdown",
   "id": "dbbcfdce",
   "metadata": {},
   "source": [
    "Example 3:\n",
    "    \n",
    "Input: intersectVal = 0, listA = [2,6,4], listB = [1,5], skipA = 3, skipB = 2\n",
    "\n",
    "Output: No intersection\n",
    "\n",
    "Explanation: From the head of A, it reads as [2,6,4]. From the head of B, it reads as [1,5]. Since the two lists do not intersect, intersectVal must be 0, while skipA and skipB can be arbitrary values.\n",
    "\n",
    "Explanation: The two lists do not intersect, so return null."
   ]
  },
  {
   "cell_type": "markdown",
   "id": "9dd5d9b1",
   "metadata": {},
   "source": [
    "Constraints:\n",
    "\n",
    "The number of nodes of listA is in the m.\n",
    "\n",
    "The number of nodes of listB is in the n.\n",
    "\n",
    "1 <= m, n <= 3 * 104\n",
    "\n",
    "1 <= Node.val <= 105\n",
    "\n",
    "0 <= skipA < m\n",
    "\n",
    "0 <= skipB < n\n",
    "\n",
    "intersectVal is 0 if listA and listB do not intersect.\n",
    "\n",
    "intersectVal == listA[skipA] == listB[skipB] if listA and listB intersect.\n",
    " \n",
    "Follow up: Could you write a solution that runs in O(m + n) time and use only O(1) memory?"
   ]
  },
  {
   "cell_type": "markdown",
   "id": "86f2ba38",
   "metadata": {},
   "source": [
    "## Solution:\n",
    "\n",
    "Suppose we have two linked lists A and B, there are few elements in these linked lists. We have to return the reference of the intersection points. The inputs are intersectionVal = 8, A = [4,1,8,4,5], B = [5,0,1,8,4,5], skipA = 2 and skipB = 3, these are used to skip 2 elements from A and skip 3 elements from B.\n",
    "\n",
    "To solve this, we will follow these steps −\n",
    "\n",
    "Define a map called d\n",
    "\n",
    "while headA is not null\n",
    "\n",
    "    d[headA] := 1\n",
    "\n",
    "    headA := next of headA\n",
    "\n",
    "while headB is not null\n",
    "\n",
    "    if headB in d\n",
    "\n",
    "        return headB\n",
    "\n",
    "    headB := next of headB\n",
    "\n",
    "Return null"
   ]
  },
  {
   "cell_type": "code",
   "execution_count": 1,
   "id": "87d19335",
   "metadata": {},
   "outputs": [],
   "source": [
    "class ListNode:\n",
    "    def __init__(self, data, next = None):\n",
    "        self.data = data\n",
    "        self.next = next"
   ]
  },
  {
   "cell_type": "code",
   "execution_count": 2,
   "id": "c6b44397",
   "metadata": {},
   "outputs": [],
   "source": [
    "def print_list(head):\n",
    "    ptr = head\n",
    "    print('[', end = \"\")\n",
    "    while ptr:\n",
    "        print(ptr.data, end = \", \")\n",
    "        ptr = ptr.next\n",
    "    print(']')"
   ]
  },
  {
   "cell_type": "markdown",
   "id": "f5d9b68a",
   "metadata": {},
   "source": [
    "## Solution 1"
   ]
  },
  {
   "cell_type": "code",
   "execution_count": 3,
   "id": "65943707",
   "metadata": {},
   "outputs": [],
   "source": [
    "class Solution(object):\n",
    "    def getIntersectionNode(self, headA, headB):\n",
    "        \"\"\"\n",
    "        :type head1, head1: ListNode\n",
    "        :rtype: ListNode\n",
    "        \"\"\"\n",
    "        dict = {}\n",
    "        while headA:\n",
    "            dict[headA]=1\n",
    "            headA = headA.next\n",
    "        while headB:\n",
    "            if headB in dict:\n",
    "                return headB\n",
    "            headB = headB.next\n",
    "        return None"
   ]
  },
  {
   "cell_type": "code",
   "execution_count": 4,
   "id": "bda59e1e",
   "metadata": {},
   "outputs": [
    {
     "name": "stdout",
     "output_type": "stream",
     "text": [
      "HeadA:\n",
      "[4, 1, 8, 4, 5, ]\n",
      "HeadB:\n",
      "[5, 0, 1, 8, 4, 5, ]\n"
     ]
    }
   ],
   "source": [
    "headA = ListNode(4)\n",
    "headB = ListNode(5)\n",
    "Intersect = ListNode(8, ListNode(4, ListNode(5)))\n",
    "headA.next = ListNode(1, Intersect)\n",
    "headB.next = ListNode(0, ListNode(1, Intersect))\n",
    "print(\"HeadA:\")\n",
    "print_list(headA)\n",
    "print(\"HeadB:\")\n",
    "print_list(headB)"
   ]
  },
  {
   "cell_type": "code",
   "execution_count": 5,
   "id": "1f2ec964",
   "metadata": {},
   "outputs": [
    {
     "name": "stdout",
     "output_type": "stream",
     "text": [
      "Intersection: 8\n"
     ]
    }
   ],
   "source": [
    "ob1 = Solution()\n",
    "op = ob1.getIntersectionNode(headA, headB)\n",
    "print(\"Intersection:\",op.data)"
   ]
  },
  {
   "cell_type": "markdown",
   "id": "f5bcabd3",
   "metadata": {},
   "source": [
    "## Solution 2"
   ]
  },
  {
   "cell_type": "code",
   "execution_count": 6,
   "id": "58f83162",
   "metadata": {},
   "outputs": [],
   "source": [
    "class Solution(object):\n",
    "    def getIntersectionNode(self, headA, headB):\n",
    "        \"\"\"\n",
    "        :type head1, head1: ListNode\n",
    "        :rtype: ListNode\n",
    "        \"\"\"\n",
    "        if headA == None and headB == None:\n",
    "            return None\n",
    "        elif headA == None and headB != None:\n",
    "            return None\n",
    "        elif headA != None and headB == None:\n",
    "            return None\n",
    "        else:\n",
    "            len_a = 0\n",
    "            len_b = 0\n",
    "            \n",
    "            current = headA\n",
    "            while current != None:\n",
    "                current = current.next\n",
    "                len_a += 1\n",
    "                \n",
    "            current = headB\n",
    "            while current != None:\n",
    "                current = current.next\n",
    "                len_b += 1\n",
    "            \n",
    "            diff = 0\n",
    "            current = None\n",
    "            if len_a > len_b:\n",
    "                diff = len_a - len_b\n",
    "                currentA = headA\n",
    "                currentB = headB\n",
    "            else:\n",
    "                diff = len_b - len_a\n",
    "                currentA = headB\n",
    "                currentB = headA\n",
    "            \n",
    "            count = 0\n",
    "            while count < diff:\n",
    "                currentA = currentA.next\n",
    "                count += 1\n",
    "                \n",
    "            while currentA != None and currentB != None:\n",
    "                if currentA == currentB:\n",
    "                    return currentA\n",
    "                else:\n",
    "                    currentA = currentA.next\n",
    "                    currentB = currentB.next"
   ]
  },
  {
   "cell_type": "code",
   "execution_count": 7,
   "id": "b5b9ef42",
   "metadata": {},
   "outputs": [
    {
     "name": "stdout",
     "output_type": "stream",
     "text": [
      "Intersection: 8\n"
     ]
    }
   ],
   "source": [
    "ob1 = Solution()\n",
    "op = ob1.getIntersectionNode(headA, headB)\n",
    "print(\"Intersection:\",op.data)"
   ]
  },
  {
   "cell_type": "code",
   "execution_count": null,
   "id": "7f09f590",
   "metadata": {},
   "outputs": [],
   "source": []
  }
 ],
 "metadata": {
  "kernelspec": {
   "display_name": "Python 3 (ipykernel)",
   "language": "python",
   "name": "python3"
  },
  "language_info": {
   "codemirror_mode": {
    "name": "ipython",
    "version": 3
   },
   "file_extension": ".py",
   "mimetype": "text/x-python",
   "name": "python",
   "nbconvert_exporter": "python",
   "pygments_lexer": "ipython3",
   "version": "3.9.12"
  }
 },
 "nbformat": 4,
 "nbformat_minor": 5
}
