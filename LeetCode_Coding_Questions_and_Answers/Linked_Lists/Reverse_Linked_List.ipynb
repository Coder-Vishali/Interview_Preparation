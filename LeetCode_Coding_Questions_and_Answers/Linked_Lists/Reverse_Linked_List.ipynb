{
 "cells": [
  {
   "cell_type": "markdown",
   "id": "ee3655f9",
   "metadata": {},
   "source": [
    "# Reverse Linked List"
   ]
  },
  {
   "cell_type": "markdown",
   "id": "aad8cab2",
   "metadata": {},
   "source": [
    "Reverse a singly linked list.\n",
    "\n",
    "URL: https://leetcode.com/problems/reverse-linked-list/"
   ]
  },
  {
   "cell_type": "markdown",
   "id": "c189bf86",
   "metadata": {},
   "source": [
    "Given the head of a singly linked list, reverse the list, and return the reversed list.\n",
    "\n",
    "Example 1:\n",
    "\n",
    "Input: head = [1,2,3,4,5]\n",
    "\n",
    "Output: [5,4,3,2,1]\n",
    "\n",
    "Constraints:\n",
    "\n",
    "The number of nodes in the list is the range [0, 5000].\n",
    "\n",
    "-5000 <= Node.val <= 5000"
   ]
  },
  {
   "cell_type": "markdown",
   "id": "685705c3",
   "metadata": {},
   "source": [
    "## Solution\n",
    "\n",
    "Suppose we have a linked list, we have to reverse it. So if the list is like 1 → 3 → 5 → 7, then the new reversed list will be 7 → 5 → 3 → 1\n",
    "\n",
    "To solve this, we will follow this approach −\n",
    "\n",
    "Define one procedure to perform list reversal in a recursive way as to solve(head, back)\n",
    "\n",
    "if the head is not present, then return head\n",
    "\n",
    "temp := head.next\n",
    "\n",
    "head.next := back\n",
    "\n",
    "back = head\n",
    "\n",
    "if temp is empty, then return head\n",
    "\n",
    "head = temp\n",
    "\n",
    "return solve(head, back)"
   ]
  },
  {
   "cell_type": "code",
   "execution_count": 1,
   "id": "44b687ac",
   "metadata": {},
   "outputs": [],
   "source": [
    "class ListNode:\n",
    "    def __init__(self, data, next = None):\n",
    "      self.data = data\n",
    "      self.next = next"
   ]
  },
  {
   "cell_type": "code",
   "execution_count": 2,
   "id": "42f029c6",
   "metadata": {},
   "outputs": [],
   "source": [
    "def make_list(elements):\n",
    "    head = ListNode(elements[0])\n",
    "    for element in elements[1:]:\n",
    "        ptr = head\n",
    "        while ptr.next:\n",
    "         ptr = ptr.next\n",
    "        ptr.next = ListNode(element)\n",
    "    return head"
   ]
  },
  {
   "cell_type": "code",
   "execution_count": 6,
   "id": "d26ccda4",
   "metadata": {},
   "outputs": [],
   "source": [
    "def print_list(head):\n",
    "    ptr = head\n",
    "    print('[', end = \"\")\n",
    "    while ptr:\n",
    "      print(ptr.data, end = \",\")\n",
    "      ptr = ptr.next\n",
    "    print(']')"
   ]
  },
  {
   "cell_type": "code",
   "execution_count": 4,
   "id": "e357eaa0",
   "metadata": {},
   "outputs": [],
   "source": [
    "class Solution(object):\n",
    "    def solve(self, head, back):\n",
    "        if not head:\n",
    "            return head\n",
    "        temp = head.next\n",
    "        head.next = back\n",
    "        back = head\n",
    "        if not temp:\n",
    "            return head\n",
    "        head = temp\n",
    "        return self.solve(head,back)\n",
    "    def reverseList(self, head):\n",
    "      \"\"\"\n",
    "      :type head: ListNode\n",
    "      :rtype: ListNode\n",
    "      \"\"\"\n",
    "      return self.solve(head,None)"
   ]
  },
  {
   "cell_type": "code",
   "execution_count": 7,
   "id": "72c17d1c",
   "metadata": {},
   "outputs": [
    {
     "name": "stdout",
     "output_type": "stream",
     "text": [
      "[7,5,3,1,]\n"
     ]
    }
   ],
   "source": [
    "list1 = make_list([1,3,5,7])\n",
    "ob1 = Solution()\n",
    "list2 = ob1.reverseList(list1)\n",
    "print_list(list2)"
   ]
  }
 ],
 "metadata": {
  "kernelspec": {
   "display_name": "Python 3 (ipykernel)",
   "language": "python",
   "name": "python3"
  },
  "language_info": {
   "codemirror_mode": {
    "name": "ipython",
    "version": 3
   },
   "file_extension": ".py",
   "mimetype": "text/x-python",
   "name": "python",
   "nbconvert_exporter": "python",
   "pygments_lexer": "ipython3",
   "version": "3.9.12"
  }
 },
 "nbformat": 4,
 "nbformat_minor": 5
}
