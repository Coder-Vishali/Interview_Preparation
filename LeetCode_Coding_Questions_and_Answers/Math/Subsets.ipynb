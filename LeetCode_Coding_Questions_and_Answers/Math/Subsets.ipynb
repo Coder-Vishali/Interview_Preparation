{
 "cells": [
  {
   "cell_type": "markdown",
   "id": "c62222f1",
   "metadata": {},
   "source": [
    "# Subsets"
   ]
  },
  {
   "cell_type": "markdown",
   "id": "7da93b99",
   "metadata": {},
   "source": [
    "Given a set of distinct integers, nums, return all possible subsets.\n",
    "\n",
    "Note: The solution set must not contain duplicate subsets.\n",
    "\n",
    "For example, If nums = [1,2,3], a solution is:\n",
    "[ [3], [1], [2], [1,2,3], [1,3], [2,3], [1,2], [] ]\n",
    "\n",
    "URL: https://leetcode.com/problems/subsets/\n",
    "\n",
    "Given an integer array nums of unique elements, return all possible subsets (the power set).\n",
    "\n",
    "The solution set must not contain duplicate subsets. Return the solution in any order\n",
    "\n",
    "Example 1:\n",
    "\n",
    "Input: nums = [1,2,3]\n",
    "Output: [[],[1],[2],[1,2],[3],[1,3],[2,3],[1,2,3]]\n",
    "Example 2:\n",
    "\n",
    "Input: nums = [0]\n",
    "Output: [[],[0]]\n",
    " \n",
    "\n",
    "Constraints:\n",
    "\n",
    "1 <= nums.length <= 10\n",
    "-10 <= nums[i] <= 10\n",
    "All the numbers of nums are unique."
   ]
  },
  {
   "cell_type": "code",
   "execution_count": 2,
   "id": "6cf5c02f",
   "metadata": {},
   "outputs": [],
   "source": [
    "class Solution:\n",
    "    def subsets(self, nums):\n",
    "        def dfs(depth, start, valuelist):\n",
    "            res.append(valuelist)\n",
    "            # print(\"res: \", res)\n",
    "            if depth == len(nums): return\n",
    "            for i in range(start, len(nums)):\n",
    "                # print(f\"Depth: {depth+1}, Start: {i+1}, Valuelist: {valuelist+[nums[i]]}\")\n",
    "                dfs(depth+1, i+1, valuelist+[nums[i]])\n",
    "        nums.sort()\n",
    "        res = []\n",
    "        dfs(0, 0, [])\n",
    "        return res"
   ]
  },
  {
   "cell_type": "code",
   "execution_count": 3,
   "id": "b89913f3",
   "metadata": {},
   "outputs": [
    {
     "name": "stdout",
     "output_type": "stream",
     "text": [
      "res:  [[]]\n",
      "Depth: 1, Start: 1, Valuelist: [1]\n",
      "res:  [[], [1]]\n",
      "Depth: 2, Start: 2, Valuelist: [1, 2]\n",
      "res:  [[], [1], [1, 2]]\n",
      "Depth: 3, Start: 3, Valuelist: [1, 2, 3]\n",
      "res:  [[], [1], [1, 2], [1, 2, 3]]\n",
      "Depth: 2, Start: 3, Valuelist: [1, 3]\n",
      "res:  [[], [1], [1, 2], [1, 2, 3], [1, 3]]\n",
      "Depth: 1, Start: 2, Valuelist: [2]\n",
      "res:  [[], [1], [1, 2], [1, 2, 3], [1, 3], [2]]\n",
      "Depth: 2, Start: 3, Valuelist: [2, 3]\n",
      "res:  [[], [1], [1, 2], [1, 2, 3], [1, 3], [2], [2, 3]]\n",
      "Depth: 1, Start: 3, Valuelist: [3]\n",
      "res:  [[], [1], [1, 2], [1, 2, 3], [1, 3], [2], [2, 3], [3]]\n",
      "[[], [1], [1, 2], [1, 2, 3], [1, 3], [2], [2, 3], [3]]\n"
     ]
    }
   ],
   "source": [
    "ob1 = Solution()\n",
    "print(ob1.subsets([1,2,3]))"
   ]
  },
  {
   "cell_type": "code",
   "execution_count": null,
   "id": "8194dcfb",
   "metadata": {},
   "outputs": [],
   "source": []
  }
 ],
 "metadata": {
  "kernelspec": {
   "display_name": "Python 3 (ipykernel)",
   "language": "python",
   "name": "python3"
  },
  "language_info": {
   "codemirror_mode": {
    "name": "ipython",
    "version": 3
   },
   "file_extension": ".py",
   "mimetype": "text/x-python",
   "name": "python",
   "nbconvert_exporter": "python",
   "pygments_lexer": "ipython3",
   "version": "3.9.13"
  }
 },
 "nbformat": 4,
 "nbformat_minor": 5
}
